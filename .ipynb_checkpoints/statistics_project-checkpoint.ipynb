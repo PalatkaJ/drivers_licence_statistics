{
 "cells": [
  {
   "cell_type": "markdown",
   "id": "787fda8c-7285-4cee-98af-c93e1f043b6b",
   "metadata": {},
   "source": [
    "# Driver's License Test Scores - Statistická Práce"
   ]
  },
  {
   "cell_type": "markdown",
   "id": "8ffa0038-4adc-4d47-9921-d2da503a6681",
   "metadata": {},
   "source": [
    "Níže je uvedena statistická analýza dat zveřejněných na webu kaggle, přesněji: https://www.kaggle.com/datasets/ferdinandbaidoo/drivers-license-test-scores-data . Řeším otázky, zda má pohlaví, věk či rasa nějaký vliv na výsledky závěrečných testů v autoškole popř. i nějaké podotázky jako jsou parkování, správné používání blinkrů nebo výsledky teoretických testů."
   ]
  },
  {
   "cell_type": "markdown",
   "id": "8c3bd40c-bf5b-4e5e-83c0-3f880b28b53d",
   "metadata": {},
   "source": [
    "## Základní zpracování dat a informace"
   ]
  },
  {
   "cell_type": "code",
   "execution_count": 1,
   "id": "11775e2e-d373-490a-8216-11b1122eff37",
   "metadata": {},
   "outputs": [],
   "source": [
    "# import potřebných knihoven\n",
    "import pandas as pd \n",
    "import numpy as np\n",
    "import matplotlib.pyplot as plt\n",
    "import seaborn as sns\n",
    "import scipy.stats as st"
   ]
  },
  {
   "cell_type": "code",
   "execution_count": 2,
   "id": "b0fb1b61-6c01-45a4-a22d-6ffb1ff9e955",
   "metadata": {},
   "outputs": [
    {
     "data": {
      "text/html": [
       "<div>\n",
       "<style scoped>\n",
       "    .dataframe tbody tr th:only-of-type {\n",
       "        vertical-align: middle;\n",
       "    }\n",
       "\n",
       "    .dataframe tbody tr th {\n",
       "        vertical-align: top;\n",
       "    }\n",
       "\n",
       "    .dataframe thead th {\n",
       "        text-align: right;\n",
       "    }\n",
       "</style>\n",
       "<table border=\"1\" class=\"dataframe\">\n",
       "  <thead>\n",
       "    <tr style=\"text-align: right;\">\n",
       "      <th></th>\n",
       "      <th>Applicant ID</th>\n",
       "      <th>Gender</th>\n",
       "      <th>Age Group</th>\n",
       "      <th>Race</th>\n",
       "      <th>Training</th>\n",
       "      <th>Signals</th>\n",
       "      <th>Yield</th>\n",
       "      <th>Speed Control</th>\n",
       "      <th>Night Drive</th>\n",
       "      <th>Road Signs</th>\n",
       "      <th>Steer Control</th>\n",
       "      <th>Mirror Usage</th>\n",
       "      <th>Confidence</th>\n",
       "      <th>Parking</th>\n",
       "      <th>Theory Test</th>\n",
       "      <th>Reactions</th>\n",
       "      <th>Qualified</th>\n",
       "    </tr>\n",
       "  </thead>\n",
       "  <tbody>\n",
       "    <tr>\n",
       "      <th>0</th>\n",
       "      <td>AID0001</td>\n",
       "      <td>Male</td>\n",
       "      <td>Young Adult</td>\n",
       "      <td>Other</td>\n",
       "      <td>NaN</td>\n",
       "      <td>38.48</td>\n",
       "      <td>30.29</td>\n",
       "      <td>37.03</td>\n",
       "      <td>33.53</td>\n",
       "      <td>39.61</td>\n",
       "      <td>58.16</td>\n",
       "      <td>53.42</td>\n",
       "      <td>35.32</td>\n",
       "      <td>38.19</td>\n",
       "      <td>70.68</td>\n",
       "      <td>Average</td>\n",
       "      <td>No</td>\n",
       "    </tr>\n",
       "    <tr>\n",
       "      <th>1</th>\n",
       "      <td>AID0002</td>\n",
       "      <td>Female</td>\n",
       "      <td>Young Adult</td>\n",
       "      <td>Black</td>\n",
       "      <td>NaN</td>\n",
       "      <td>51.76</td>\n",
       "      <td>19.13</td>\n",
       "      <td>63.05</td>\n",
       "      <td>34.87</td>\n",
       "      <td>19.56</td>\n",
       "      <td>16.48</td>\n",
       "      <td>27.97</td>\n",
       "      <td>22.91</td>\n",
       "      <td>24.23</td>\n",
       "      <td>78.18</td>\n",
       "      <td>Average</td>\n",
       "      <td>No</td>\n",
       "    </tr>\n",
       "    <tr>\n",
       "      <th>2</th>\n",
       "      <td>AID0003</td>\n",
       "      <td>Male</td>\n",
       "      <td>Middle Age</td>\n",
       "      <td>Black</td>\n",
       "      <td>NaN</td>\n",
       "      <td>30.21</td>\n",
       "      <td>48.13</td>\n",
       "      <td>43.13</td>\n",
       "      <td>42.43</td>\n",
       "      <td>60.93</td>\n",
       "      <td>20.74</td>\n",
       "      <td>28.86</td>\n",
       "      <td>32.32</td>\n",
       "      <td>44.11</td>\n",
       "      <td>79.60</td>\n",
       "      <td>Fast</td>\n",
       "      <td>Yes</td>\n",
       "    </tr>\n",
       "    <tr>\n",
       "      <th>3</th>\n",
       "      <td>AID0004</td>\n",
       "      <td>Male</td>\n",
       "      <td>Young Adult</td>\n",
       "      <td>Other</td>\n",
       "      <td>NaN</td>\n",
       "      <td>34.75</td>\n",
       "      <td>47.28</td>\n",
       "      <td>50.49</td>\n",
       "      <td>42.10</td>\n",
       "      <td>22.52</td>\n",
       "      <td>33.87</td>\n",
       "      <td>48.52</td>\n",
       "      <td>24.90</td>\n",
       "      <td>37.56</td>\n",
       "      <td>57.34</td>\n",
       "      <td>Average</td>\n",
       "      <td>No</td>\n",
       "    </tr>\n",
       "    <tr>\n",
       "      <th>4</th>\n",
       "      <td>AID0005</td>\n",
       "      <td>Male</td>\n",
       "      <td>Teenager</td>\n",
       "      <td>Other</td>\n",
       "      <td>Advanced</td>\n",
       "      <td>78.52</td>\n",
       "      <td>83.93</td>\n",
       "      <td>59.79</td>\n",
       "      <td>52.68</td>\n",
       "      <td>67.47</td>\n",
       "      <td>89.24</td>\n",
       "      <td>30.31</td>\n",
       "      <td>43.85</td>\n",
       "      <td>55.91</td>\n",
       "      <td>78.44</td>\n",
       "      <td>Average</td>\n",
       "      <td>Yes</td>\n",
       "    </tr>\n",
       "  </tbody>\n",
       "</table>\n",
       "</div>"
      ],
      "text/plain": [
       "  Applicant ID  Gender    Age Group   Race  Training  Signals  Yield  \\\n",
       "0      AID0001    Male  Young Adult  Other       NaN    38.48  30.29   \n",
       "1      AID0002  Female  Young Adult  Black       NaN    51.76  19.13   \n",
       "2      AID0003    Male   Middle Age  Black       NaN    30.21  48.13   \n",
       "3      AID0004    Male  Young Adult  Other       NaN    34.75  47.28   \n",
       "4      AID0005    Male     Teenager  Other  Advanced    78.52  83.93   \n",
       "\n",
       "   Speed Control  Night Drive  Road Signs  Steer Control  Mirror Usage  \\\n",
       "0          37.03        33.53       39.61          58.16         53.42   \n",
       "1          63.05        34.87       19.56          16.48         27.97   \n",
       "2          43.13        42.43       60.93          20.74         28.86   \n",
       "3          50.49        42.10       22.52          33.87         48.52   \n",
       "4          59.79        52.68       67.47          89.24         30.31   \n",
       "\n",
       "   Confidence  Parking  Theory Test Reactions Qualified  \n",
       "0       35.32    38.19        70.68   Average        No  \n",
       "1       22.91    24.23        78.18   Average        No  \n",
       "2       32.32    44.11        79.60      Fast       Yes  \n",
       "3       24.90    37.56        57.34   Average        No  \n",
       "4       43.85    55.91        78.44   Average       Yes  "
      ]
     },
     "execution_count": 2,
     "metadata": {},
     "output_type": "execute_result"
    }
   ],
   "source": [
    "# načtení a prasování dat\n",
    "df = pd.read_csv(\"data/drivers_licence_data.csv\")\n",
    "df.head()"
   ]
  },
  {
   "cell_type": "markdown",
   "id": "5b5607a4-d481-477e-85ff-a8d2b70fe3e2",
   "metadata": {},
   "source": [
    "!!! Pokud někde používám hladinu významnosti $\\alpha$, tak je rovna klasické hodnotě $0.05$. !!!"
   ]
  },
  {
   "cell_type": "markdown",
   "id": "89210851-2381-4372-a4fa-309ffcc57cda",
   "metadata": {},
   "source": [
    "!!! Pokud někde odpovídám stylem: \"Pohlaví má nebo nemá vliv na výsledky\", tak je to vždy vůči těmto naměřeným datům a zvolené hladině významnosti !!!"
   ]
  },
  {
   "cell_type": "markdown",
   "id": "1198eec6-a587-4adb-94fc-a1ba56268e7a",
   "metadata": {},
   "source": [
    "## Vliv pohlaví, věku, rasy a trénovanosti na výsledek celého testu"
   ]
  },
  {
   "cell_type": "markdown",
   "id": "dc4636f7-2bad-4030-aec0-490b00c3375e",
   "metadata": {},
   "source": [
    "Cílem následujících testů je najít závislost mezi jednotlivými kategoriemi a výsledkem testů. Na tyto otázky odpovíme pomocí jednoduchých chi-kvadrát testů, určeme hypotézy.\n",
    "$$\n",
    "\\begin{aligned}\n",
    "H_0 &:= \\; \\text{Pohlaví (věk,...) nemá vliv na výsledek zkoušky} \\\\\n",
    "H_1 &:= \\; \\text{Pohlaví (věk,...) má vliv na výsledek zkoušky}\n",
    "\\end{aligned}\n",
    "$$\n",
    "Nejprve se podívejme na pohlaví.\n"
   ]
  },
  {
   "cell_type": "markdown",
   "id": "0bd511af-2ba2-49bd-b8d8-5554c9f71e36",
   "metadata": {},
   "source": [
    "### Pohlaví"
   ]
  },
  {
   "cell_type": "code",
   "execution_count": 3,
   "id": "0ac37dd3-3620-48a0-aa0e-1cbf717385e2",
   "metadata": {},
   "outputs": [
    {
     "name": "stdout",
     "output_type": "stream",
     "text": [
      "Qualified   No  Yes\n",
      "Gender             \n",
      "Female     131  125\n",
      "Male       120  124\n"
     ]
    }
   ],
   "source": [
    "# Vytvoření kontingenční tabulky pro pohlaví a výsledek zkoušky\n",
    "cont_table = pd.crosstab(df['Gender'], df['Qualified'])\n",
    "print(cont_table)"
   ]
  },
  {
   "cell_type": "markdown",
   "id": "770ae6f9-bb6d-4e20-a8d2-98c7d18c498f",
   "metadata": {},
   "source": [
    "Na pohled vidíme větší úspěšnost u mužů, ale pojďme provést daný test a podívat se na konkrétní hodnoty, abychom věděli, zda je rozdíl markantní nebo ne."
   ]
  },
  {
   "cell_type": "code",
   "execution_count": 4,
   "id": "3eaecb4b-9524-4d8a-be0a-0f1e5c13f948",
   "metadata": {},
   "outputs": [
    {
     "name": "stdout",
     "output_type": "stream",
     "text": [
      "Chi-kvadrát: 0.12654352059796886\n",
      "p-hodnota: 0.722043\n"
     ]
    }
   ],
   "source": [
    "chi2, p, dof, expected = st.chi2_contingency(cont_table) # Provedení chi–kvadrát testu\n",
    "\n",
    "print(\"Chi-kvadrát:\", chi2)\n",
    "print(f\"p-hodnota: {p:.6f}\")"
   ]
  },
  {
   "cell_type": "markdown",
   "id": "ea694f39-3eb9-4623-b67d-75f409696955",
   "metadata": {},
   "source": [
    "Naštěstí nám vyšla p-hodnota daleko vyšší než je zvolená hladina významnosti $\\alpha$, tedy pohlaví a výsledek zkoušky na sebe nemají žádný vliv."
   ]
  },
  {
   "cell_type": "markdown",
   "id": "7ad2f3db-6152-4987-b505-961c4c84473f",
   "metadata": {},
   "source": [
    "### Věk"
   ]
  },
  {
   "cell_type": "markdown",
   "id": "7bea6295-168b-4a73-85a3-d15bbf1b4684",
   "metadata": {},
   "source": [
    "Nyní se podívejme na věk, nejprve z deskriptivního pohledu dat (předešlá data jsme zobrazovali pomocí kontingenční tabulky, zde si je můžeme zobrazit třeba grafem)."
   ]
  },
  {
   "cell_type": "code",
   "execution_count": 5,
   "id": "d5b55b7d-fdfb-4d37-9d3d-3dda4658c157",
   "metadata": {},
   "outputs": [
    {
     "data": {
      "image/png": "[encoded data removed]",
      "text/plain": [
       "<Figure size 640x480 with 1 Axes>"
      ]
     },
     "metadata": {},
     "output_type": "display_data"
    }
   ],
   "source": [
    "prop_table = (df.groupby(\"Age Group\")[\"Qualified\"]\n",
    "                .value_counts(normalize=True)\n",
    "                .rename(\"Proportion\")\n",
    "                .reset_index())\n",
    "\n",
    "sns.barplot(x=\"Age Group\", y=\"Proportion\", hue=\"Qualified\", data=prop_table)\n",
    "plt.title(\"Úspěšnost podle věkové skupiny\")\n",
    "plt.xlabel(\"Věková skupina\")\n",
    "plt.ylabel(\"Podíl\")\n",
    "plt.show()"
   ]
  },
  {
   "cell_type": "markdown",
   "id": "8ba01784-d6a4-4d9f-92e2-d41485d5b804",
   "metadata": {},
   "source": [
    "Zde je ten rozdíl daleko větší, zatím bez jakýchkoliv testů vidíme, že věková skupina \"Teenager\" má daleko horší výsledky, nežli zbylé dvě. Proveďme tedy test, který by měl nulovou hypotézu zamítnout."
   ]
  },
  {
   "cell_type": "code",
   "execution_count": 6,
   "id": "a97fc8f7-cab7-4dd6-a30e-87aebf1ce1e0",
   "metadata": {},
   "outputs": [
    {
     "name": "stdout",
     "output_type": "stream",
     "text": [
      "Chi-kvadrát: 19.91687479950254\n",
      "p-hodnota: 0.000047\n"
     ]
    }
   ],
   "source": [
    "cont_table = pd.crosstab(df['Age Group'], df['Qualified'])\n",
    "chi2, p, dof, expected = st.chi2_contingency(cont_table)\n",
    "\n",
    "print(\"Chi-kvadrát:\", chi2)\n",
    "print(f\"p-hodnota: {p:.6f}\")"
   ]
  },
  {
   "cell_type": "markdown",
   "id": "e72aa117-4924-4d86-948d-9e7506333ff0",
   "metadata": {},
   "source": [
    "Výsledná p–hodnota je daleko nižší, nežli zvolená $\\alpha$, tedy můžeme zamítnout nulovou hypotézu a prohlásit, že věk má vliv na výsledek zkoušky."
   ]
  },
  {
   "cell_type": "markdown",
   "id": "fcb6f9a7-f564-4b1b-995f-e0be06316071",
   "metadata": {},
   "source": [
    "### Rasa"
   ]
  },
  {
   "cell_type": "markdown",
   "id": "5cb2df7b-d9e0-424c-8f0c-a1bd334f95de",
   "metadata": {},
   "source": [
    "Zde už bez komentářů opět zobrazíme data a provedeme chí-kvadrát test."
   ]
  },
  {
   "cell_type": "code",
   "execution_count": 7,
   "id": "c6b14bfc-5981-48c0-ad88-fa72cbdea905",
   "metadata": {},
   "outputs": [
    {
     "name": "stdout",
     "output_type": "stream",
     "text": [
      "Qualified  No  Yes\n",
      "Race              \n",
      "Black      82   82\n",
      "Other      84   87\n",
      "White      85   80\n",
      "\n",
      "Chi-kvadrát: 0.1961498688604218\n",
      "p-hodnota: 0.906581\n"
     ]
    }
   ],
   "source": [
    "cont_table = pd.crosstab(df['Race'], df['Qualified'])\n",
    "print(cont_table)\n",
    "chi2, p, dof, expected = st.chi2_contingency(cont_table)\n",
    "\n",
    "print(\"\\nChi-kvadrát:\", chi2)\n",
    "print(f\"p-hodnota: {p:.6f}\")"
   ]
  },
  {
   "cell_type": "markdown",
   "id": "ff646717-f504-4771-bd99-caea33cef820",
   "metadata": {},
   "source": [
    "Pro vyšší p-hodnotu nežli je zvolená $\\alpha$ rasa nemá vliv na celkový výsledek testů."
   ]
  },
  {
   "cell_type": "markdown",
   "id": "c344a223-7413-4913-802c-8a62263594ae",
   "metadata": {},
   "source": [
    "### Trénink"
   ]
  },
  {
   "cell_type": "code",
   "execution_count": 8,
   "id": "46678c65-eb41-45d9-b2ed-9725306702d3",
   "metadata": {},
   "outputs": [
    {
     "name": "stdout",
     "output_type": "stream",
     "text": [
      "Qualified  No  Yes\n",
      "Training          \n",
      "Advanced   18  134\n",
      "Basic      85  113\n",
      "\n",
      "Chi-kvadrát: 38.530537101708745\n",
      "p-hodnota: 0.000000001\n"
     ]
    }
   ],
   "source": [
    "cont_table = pd.crosstab(df['Training'], df['Qualified']) # Vytvoření kontingenční tabulky pro trénink a výsledek\n",
    "print(cont_table)\n",
    "chi2, p, dof, expected = st.chi2_contingency(cont_table) # Provedení testu\n",
    "\n",
    "print(\"\\nChi-kvadrát:\", chi2)\n",
    "print(f\"p-hodnota: {p:.9f}\")"
   ]
  },
  {
   "cell_type": "markdown",
   "id": "46b3ac91-2d47-4ad2-89fa-6799d8acf4dd",
   "metadata": {},
   "source": [
    "Zde vyšla p–hodnota velice malá (menší nežli $\\alpha$), tedy zamítáme $H_0$ a příjímáme hypotézu, že trénink vliv na výsledek má."
   ]
  },
  {
   "cell_type": "markdown",
   "id": "cd1312e7-e661-4c9e-a874-0ec6679fd110",
   "metadata": {},
   "source": [
    "## Pozorování z předešlých testů"
   ]
  },
  {
   "cell_type": "markdown",
   "id": "ddadb625-cc56-459a-9e23-12e9da391510",
   "metadata": {},
   "source": [
    "Dle jednoduchých chi-kvadrát testů jsme zjistili, že pohlaví a rasa vliv na celkový výsledek testů nemají a naopak věk a trénink vliv mají. Co dále nám nabízejí data jsou jednotlivá skóre získaná při částech, ze kterých se test skládá, tedy parkování, teorie, blinkry,... Zkoumat zda se přeci jen neliší výsledky v jednotlivých kategoriích je asi ztráta času, jelikož pokud nemají vliv na celkové skóre, je dost nepravděpodobné, že budou mít vliv na nějakou část testu a jinde to zase doženou. Zajímavější mi přijde ta druhá strana a to zkusit najít nějakou část testu, kde třeba není tak markantní rozdíl mezi trénovanými/ netrénovanými, starými/ mladými nebo naopak najít místo, kde ten rozdíl je."
   ]
  },
  {
   "cell_type": "markdown",
   "id": "6365b02f-3d76-4a04-93c5-958db0cb13a2",
   "metadata": {},
   "source": [
    "## Vliv věku na jednotlivé disciplíny testu"
   ]
  },
  {
   "cell_type": "markdown",
   "id": "da32a053-3ef3-4745-83b2-e391f95b1c32",
   "metadata": {},
   "source": [
    "Pojďme se tedy podívat na věk a jeho vliv. Na začátku jsme zjistili, že věk se na celkovém výsledku odrazí, jelikož teenageři mají výsledky horší než ostatní. Nyní se podívejme, jestli přece jen neexistuje kategorie, kde by třeba věk nehrál až takovou roli. K tomu nám pomůže ANOVA test (analýza rozptylu), který vezme průměrnou hodnotu těchto, u nás tří (teenager, young adult, middle age), skupin a rozhodne, zda-li se průměry liší markantně či nikoliv (za pomoci vnitřních rozdílů mezi jednotlivými měřeními.) Pro lepší pochopení se podívejme na věk a používání blinkrů."
   ]
  },
  {
   "cell_type": "markdown",
   "id": "e9abb305-e7f7-4c69-b135-98e9dcf65560",
   "metadata": {},
   "source": [
    "$$\n",
    "\\begin{aligned}\n",
    "H_0 &:= \\; \\text{Věk nemá vliv na skóre dosažené v dané kategorii} \\\\\n",
    "H_1 &:= \\; \\text{Věk vliv má}\n",
    "\\end{aligned}\n",
    "$$"
   ]
  },
  {
   "cell_type": "markdown",
   "id": "d94f5cf5-808d-480b-82a9-55f92ecb56e5",
   "metadata": {},
   "source": [
    "### Věk a používání blinkrů"
   ]
  },
  {
   "cell_type": "code",
   "execution_count": 9,
   "id": "56fd79de-e8d7-463f-a9ae-16e80b905032",
   "metadata": {
    "scrolled": true
   },
   "outputs": [
    {
     "data": {
      "image/png": "[encoded data removed]",
      "text/plain": [
       "<Figure size 640x480 with 1 Axes>"
      ]
     },
     "metadata": {},
     "output_type": "display_data"
    }
   ],
   "source": [
    "sns.boxplot(x=\"Age Group\", y=\"Signals\", data=df)\n",
    "plt.title(\"Skóre v používání blinkrů dle věku\")\n",
    "plt.xlabel(\"Age Group\")\n",
    "plt.ylabel(\"Signals\")\n",
    "plt.show()"
   ]
  },
  {
   "cell_type": "markdown",
   "id": "dbb6276b-406c-4633-8588-e778b2c7f6dd",
   "metadata": {},
   "source": [
    "Na grafu lze vidět, že teenageři nedosahují tak dobrých výsledků jako ostatní věkové kategorie, ale přesto se podívejme na test, abychom se ujistili, že daný rozdíl je dostatečný."
   ]
  },
  {
   "cell_type": "code",
   "execution_count": 10,
   "id": "b4ebac40-ba28-4c8e-8d62-fb0d7e086d22",
   "metadata": {},
   "outputs": [
    {
     "name": "stdout",
     "output_type": "stream",
     "text": [
      "F-statistika: 26.470\n",
      "p-hodnota: 0.000000000012\n"
     ]
    }
   ],
   "source": [
    "# rozdělíme data dle věku a vytáhneme hodnoty v kategorii Signals\n",
    "groups = [g[\"Signals\"].values for _, g in df.groupby(\"Age Group\")] # [[skore pro teenagery...],[...],[...]]\n",
    "\n",
    "# ANOVA\n",
    "fstat, pval = st.f_oneway(*groups)\n",
    "\n",
    "print(f\"F-statistika: {fstat:.3f}\")\n",
    "print(f\"p-hodnota: {pval:.12f}\")"
   ]
  },
  {
   "cell_type": "markdown",
   "id": "d74350a3-f9f0-4d40-b719-13648ca55071",
   "metadata": {},
   "source": [
    "Pro velice malou p-hodnotu zamítáme nulovou hypotézu a můžeme říct, že věk má vliv na skóre dosažené v kategorii Signals. Další kategorie jako je parkování, používání zrcátek nebo sebevědomí za volantem vyšla všechna podobně a to, že věk má vliv na danou kategorii (neuvádím je zde, jelikož jsou velice podobná tomuto testu a nic nového by nepřinesly.)"
   ]
  },
  {
   "cell_type": "markdown",
   "id": "9c3d37d4-4784-484a-a9d4-9ada7ed256b0",
   "metadata": {},
   "source": [
    "### Věk a teorie"
   ]
  },
  {
   "cell_type": "markdown",
   "id": "67df0fe4-a7fd-4e9a-aad2-32a87761260f",
   "metadata": {},
   "source": [
    "Na závěr se pojďme podívat asi na jediný trochu zajímavější test. Zobrazme si data, která popisují, jak si jednotlivé věkové kategorie vedli v teoretickém testu."
   ]
  },
  {
   "cell_type": "code",
   "execution_count": 11,
   "id": "51e72dde-18b0-4c73-a4b0-386e40e008be",
   "metadata": {},
   "outputs": [
    {
     "data": {
      "image/png": "[encoded data removed]",
      "text/plain": [
       "<Figure size 640x480 with 1 Axes>"
      ]
     },
     "metadata": {},
     "output_type": "display_data"
    }
   ],
   "source": [
    "sns.boxplot(x=\"Age Group\", y=\"Theory Test\", data=df)\n",
    "plt.title(\"Skóre v testu teorie dle věku\")\n",
    "plt.xlabel(\"Age Group\")\n",
    "plt.ylabel(\"Theory Test\")\n",
    "plt.show()"
   ]
  },
  {
   "cell_type": "markdown",
   "id": "ff72af1f-053b-49b9-a312-fe4a0350db75",
   "metadata": {},
   "source": [
    "Tohle vypadá velice slibně, rozdíl není až tak velký... udělejme tedy test."
   ]
  },
  {
   "cell_type": "code",
   "execution_count": 12,
   "id": "dd5f71d7-645e-47d3-b6d5-04e7af9137c0",
   "metadata": {},
   "outputs": [
    {
     "name": "stdout",
     "output_type": "stream",
     "text": [
      "F-statistika: 0.009\n",
      "p-hodnota: 0.990860\n"
     ]
    }
   ],
   "source": [
    "groups = [g[\"Theory Test\"].values for _, g in df.groupby(\"Age Group\")]\n",
    "\n",
    "# ANOVA\n",
    "fstat, pval = st.f_oneway(*groups)\n",
    "\n",
    "print(f\"F-statistika: {fstat:.3f}\")\n",
    "print(f\"p-hodnota: {pval:.6f}\")"
   ]
  },
  {
   "cell_type": "markdown",
   "id": "553d33e6-6e81-48bc-bdae-1c9681a10158",
   "metadata": {},
   "source": [
    "Našli jsme kategorii, kde věk nemá vliv na výsledek, jelikož $p \\gt \\alpha$. Tedy konstatovat, že teenageři jsou horší řidiči dává smysl pouze v praktických částech testu, nikoliv v té teoretické."
   ]
  },
  {
   "cell_type": "markdown",
   "id": "34ab4e84-ab02-48b9-8cab-6686246001e9",
   "metadata": {},
   "source": [
    "## Intervalový test pro průměr v parkování"
   ]
  },
  {
   "cell_type": "markdown",
   "id": "6bc870e4-c2e2-4b31-8889-fd4e1c12d5b1",
   "metadata": {},
   "source": [
    "Na úplný závěr si jen zkusme intervalový test pro nějakou kategorii, zvolil jsem parkování."
   ]
  },
  {
   "cell_type": "code",
   "execution_count": 13,
   "id": "dd2a6ef5-b219-4437-b182-10b318c64220",
   "metadata": {},
   "outputs": [
    {
     "name": "stdout",
     "output_type": "stream",
     "text": [
      "Průměr z dat: 70.62\n",
      "Interval, který s 95% spolehlivostí pokrývá skutečný průměr: (69.05, 72.19)\n"
     ]
    }
   ],
   "source": [
    "scores = df[\"Theory Test\"].dropna()\n",
    "\n",
    "mean = np.mean(scores)\n",
    "sem = st.sem(scores)  # standarní chyba průměru\n",
    "ci = st.t.interval(confidence=0.95, df=len(scores)-1,\n",
    "                   loc=mean, scale=sem)\n",
    "\n",
    "print(f\"Průměr z dat: {mean:.2f}\")\n",
    "low, high = ci\n",
    "print(f\"Interval, který s 95% spolehlivostí pokrývá skutečný průměr: ({low:.2f}, {high:.2f})\")"
   ]
  },
  {
   "cell_type": "markdown",
   "id": "1852383c-a385-4111-93e5-bd943236f5e6",
   "metadata": {},
   "source": [
    "## Závěr"
   ]
  },
  {
   "cell_type": "markdown",
   "id": "19c60c4c-3108-492e-b58e-1c9f78719847",
   "metadata": {},
   "source": [
    "Ve statistické práci jsme nenašli nějaký silnější vztah mezi pohlavím/ rasou a výsledkem testu. Dále jsme potvrdili asi očividné, a to sice, že trénovanost a věk vliv na výsledek mají. Takové vlastní statistické vítězství beru v tom, že jsem si dokázal vlastní pozorováníčko a našel kategorii, kde věk nehraje roli (pozorování jsem učinil před deskriptivním pohledem na data). Dále považuji za vhodné uvést, že práce byla psána s pomocí AI, která mi pomohla najít jednotlivé funkce, které provádějí danou statistiku (jako jsou chi-kvadrát nebo ANOVA)."
   ]
  },
  {
   "cell_type": "markdown",
   "id": "9871ad15-3e1a-4352-a465-39bd3d129ed8",
   "metadata": {},
   "source": [
    "---  \n",
    "**Jan Palatka**  \n",
    "*Pravděpodobnost a Statistika 1*  \n",
    "9. 9. 2025\n"
   ]
  },
  {
   "cell_type": "code",
   "execution_count": null,
   "id": "aaaca37a-3d60-4cd6-ba6a-9729c04af277",
   "metadata": {},
   "outputs": [],
   "source": []
  }
 ],
 "metadata": {
  "kernelspec": {
   "display_name": "Python 3 (ipykernel)",
   "language": "python",
   "name": "python3"
  },
  "language_info": {
   "codemirror_mode": {
    "name": "ipython",
    "version": 3
   },
   "file_extension": ".py",
   "mimetype": "text/x-python",
   "name": "python",
   "nbconvert_exporter": "python",
   "pygments_lexer": "ipython3",
   "version": "3.13.7"
  }
 },
 "nbformat": 4,
 "nbformat_minor": 5
}
